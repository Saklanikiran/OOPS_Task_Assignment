{
 "cells": [
  {
   "cell_type": "code",
   "execution_count": 4,
   "id": "928745a7-417e-44a8-9d85-2626e45a6c98",
   "metadata": {},
   "outputs": [],
   "source": [
    "# Ans:1\n",
    "class vehicle:\n",
    "    def __init__(self, name_of_vehicle, max_speed, average_of_vehicle): \n",
    "        self.name_of_vehicle=name_of_vehicle\n",
    "        self.max_speed=max_speed\n",
    "        self.average_of_vehicle=average_of_vehicle"
   ]
  },
  {
   "cell_type": "code",
   "execution_count": 12,
   "id": "ca9356d9-5116-43c7-aa38-e2b205eedf22",
   "metadata": {},
   "outputs": [
    {
     "data": {
      "text/plain": [
       "' seating capacity of innova is 8 '"
      ]
     },
     "execution_count": 12,
     "metadata": {},
     "output_type": "execute_result"
    }
   ],
   "source": [
    "# Ans:2\n",
    "class car(vehicle):\n",
    "    def seating_capacity(self, capacity):\n",
    "        self.capacity=capacity\n",
    "        return f\" seating capacity of {self.name_of_vehicle} is {self.capacity} \"\n",
    "obj_car=car('innova',180,10)\n",
    "obj_car.seating_capacity(8)\n",
    "        "
   ]
  },
  {
   "cell_type": "code",
   "execution_count": 19,
   "id": "91974cc7-3d7c-4736-8cf4-80e09fd1e1c3",
   "metadata": {},
   "outputs": [
    {
     "name": "stdout",
     "output_type": "stream",
     "text": [
      "This is parent class 1\n",
      "This is parent class 2\n"
     ]
    }
   ],
   "source": [
    "# Ans:3\n",
    "'''\n",
    "Multiple inheritance: When a class is derived from more than one base class it is called multiple inheritance.\n",
    "'''\n",
    "# Example of multiple inheritance\n",
    "class myClass1:\n",
    "    def method1(self):\n",
    "        print(\"This is parent class 1\")\n",
    "class myClass2:\n",
    "    def method2(self):\n",
    "        print(\"This is parent class 2\")\n",
    "class myClass3(myClass1,myClass2):\n",
    "    pass\n",
    "obj_class3=myClass3()\n",
    "obj_class3.method1()\n",
    "obj_class3.method2()"
   ]
  },
  {
   "cell_type": "code",
   "execution_count": 22,
   "id": "a9c78b1d-f0f8-4a1f-95e7-ff72ba1a8bf8",
   "metadata": {},
   "outputs": [
    {
     "data": {
      "text/plain": [
       "20"
      ]
     },
     "execution_count": 22,
     "metadata": {},
     "output_type": "execute_result"
    }
   ],
   "source": [
    "# Ans:4\n",
    "'''\n",
    "Getter : Getters are the methods that are used in object-oriented programming to access a class's private attributes.\n",
    "\n",
    "Setter : Setters are the methods that are used in object-oriented programming to set the property's value of private attributes.\n",
    "\n",
    "'''\n",
    "class detail:\n",
    "    def __init__(self,name,age):\n",
    "        self._name=name\n",
    "        self._age=age\n",
    "    \n",
    "    # Setter mehtods\n",
    "    \n",
    "    def set_age(self,age):\n",
    "        self._age=age\n",
    "    def set_name(self,name):\n",
    "        self._name=name\n",
    "    \n",
    "    # Getter methods\n",
    "    \n",
    "    def get_age(self):\n",
    "        return self._age\n",
    "    def get_name(self):\n",
    "        return self._name\n",
    "    \n",
    "obj_detail=detail(\"Kiran\",20)\n",
    "obj_detail.get_name()\n",
    "obj_detail.get_age()"
   ]
  },
  {
   "cell_type": "code",
   "execution_count": 25,
   "id": "29c94f3c-8e97-4a2d-a5a6-fed3c76be2c3",
   "metadata": {},
   "outputs": [
    {
     "data": {
      "text/plain": [
       "(9, 20)"
      ]
     },
     "execution_count": 25,
     "metadata": {},
     "output_type": "execute_result"
    }
   ],
   "source": [
    "# Ans:5\n",
    "'''\n",
    "Method overriding : Method overriding is an ability that allows a subclass or child class to provide a specific implementation of a \n",
    "                    method that is already provided by one of its super-classes or parent classes\n",
    "'''\n",
    "# Example\n",
    "\n",
    "class parent:\n",
    "    def show(self,a,b):\n",
    "        return a+b\n",
    "class child(parent):\n",
    "    def show(self,a,b):\n",
    "        return a+b , a*b\n",
    "obj=child()\n",
    "obj.show(4,5)\n",
    "        "
   ]
  }
 ],
 "metadata": {
  "kernelspec": {
   "display_name": "Python 3 (ipykernel)",
   "language": "python",
   "name": "python3"
  },
  "language_info": {
   "codemirror_mode": {
    "name": "ipython",
    "version": 3
   },
   "file_extension": ".py",
   "mimetype": "text/x-python",
   "name": "python",
   "nbconvert_exporter": "python",
   "pygments_lexer": "ipython3",
   "version": "3.10.8"
  }
 },
 "nbformat": 4,
 "nbformat_minor": 5
}
